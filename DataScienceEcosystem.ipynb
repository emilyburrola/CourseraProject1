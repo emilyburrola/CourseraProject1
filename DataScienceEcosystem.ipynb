{
 "cells": [
  {
   "cell_type": "markdown",
   "id": "e5b80f8b-5182-4454-9cf6-a65ddc04ad74",
   "metadata": {
    "tags": []
   },
   "source": [
    "# Data Science Tools and Ecostsyem "
   ]
  },
  {
   "cell_type": "markdown",
   "id": "8f87e566-b766-4d10-bd3d-72333b4c57d1",
   "metadata": {},
   "source": [
    "In this notebook, Data Science Tools and Ecosystems are summarized"
   ]
  },
  {
   "cell_type": "markdown",
   "id": "f6677517-c3ed-415f-9d2e-51b40976873a",
   "metadata": {},
   "source": [
    "__Objectives:__\n",
    "\n",
    "- List popular languages for Data Science\n",
    "- List commonly used libraries by Data Scicentist\n",
    "- List exmaples of arthemtic expressions"
   ]
  },
  {
   "cell_type": "markdown",
   "id": "df099ed6-648f-4efe-9fa8-97bf12df11b9",
   "metadata": {},
   "source": [
    "Some of the popular languages that Data Scientist use are:\n",
    "1. Python\n",
    "2. Java Scipt\n",
    "3. C++"
   ]
  },
  {
   "cell_type": "markdown",
   "id": "fd46292c-31cf-4b07-9d8c-9f3385a1daa2",
   "metadata": {},
   "source": [
    "Some of the commonly used libraries used by Data Scientists include: \n",
    "1. R Studio \n",
    "2. Jupyter Labs\n",
    "3. Pandas"
   ]
  },
  {
   "cell_type": "markdown",
   "id": "0a224cdc-5277-4643-9767-0825d163bf0c",
   "metadata": {},
   "source": [
    "Data Science Tools |\n",
    "-------------------|\n",
    " Apache Spark|\n",
    "Mongo DB | \n",
    "Cassandra |\n"
   ]
  },
  {
   "cell_type": "markdown",
   "id": "bc37b4b9-e52d-4f61-9fc0-3c63abd02018",
   "metadata": {},
   "source": [
    "Below are a few exmaples of evaluatign arthmetic xpressions in Python"
   ]
  },
  {
   "cell_type": "markdown",
   "id": "ed91e653-7241-406a-8d7c-8794180c3a82",
   "metadata": {
    "tags": []
   },
   "source": [
    "This is a simple arthmetic expression to multiply then add integers \n"
   ]
  },
  {
   "cell_type": "code",
   "execution_count": 3,
   "id": "f6c2703a-d282-4c8e-877e-f3ad1ce159ac",
   "metadata": {
    "tags": []
   },
   "outputs": [
    {
     "data": {
      "text/plain": [
       "17"
      ]
     },
     "execution_count": 3,
     "metadata": {},
     "output_type": "execute_result"
    }
   ],
   "source": [
    "(3*4)+5"
   ]
  },
  {
   "cell_type": "markdown",
   "id": "4e809512-726c-4374-aa8d-3e71560c0828",
   "metadata": {
    "tags": []
   },
   "source": [
    "This will convert 200 minutes into hours by dividing it by 60"
   ]
  },
  {
   "cell_type": "code",
   "execution_count": 7,
   "id": "c089f18b-82a4-42d9-ab70-165a0906a01c",
   "metadata": {
    "tags": []
   },
   "outputs": [
    {
     "data": {
      "text/plain": [
       "3.3333333333333335"
      ]
     },
     "execution_count": 7,
     "metadata": {},
     "output_type": "execute_result"
    }
   ],
   "source": [
    "200/60"
   ]
  },
  {
   "cell_type": "markdown",
   "id": "8638d2a6-3f71-43ae-9cba-a6016e28a08e",
   "metadata": {},
   "source": [
    "## Author\n",
    "\n",
    "Emily Burrola"
   ]
  },
  {
   "cell_type": "code",
   "execution_count": null,
   "id": "fcbc18ac-5645-4a87-9ac1-ccf0227d4088",
   "metadata": {},
   "outputs": [],
   "source": []
  }
 ],
 "metadata": {
  "kernelspec": {
   "display_name": "Python 3 (ipykernel)",
   "language": "python",
   "name": "python3"
  },
  "language_info": {
   "codemirror_mode": {
    "name": "ipython",
    "version": 3
   },
   "file_extension": ".py",
   "mimetype": "text/x-python",
   "name": "python",
   "nbconvert_exporter": "python",
   "pygments_lexer": "ipython3",
   "version": "3.11.3"
  }
 },
 "nbformat": 4,
 "nbformat_minor": 5
}
